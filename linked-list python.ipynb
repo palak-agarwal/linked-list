{
 "cells": [
  {
   "cell_type": "code",
   "execution_count": 1,
   "metadata": {},
   "outputs": [],
   "source": [
    "#linked list\n",
    "class node:\n",
    "    def __init__(self,data):\n",
    "        self.data = data\n",
    "        self.nextnode = None\n",
    "        \n",
    "class linked_list:\n",
    "    def __init__(self):\n",
    "        self.head = None\n",
    "#inserting in the begining\n",
    "    def node_begining(self, newdata):\n",
    "        list2 = node(newdata)\n",
    "        list2.nextnode  = self.head\n",
    "        self.head = list2\n",
    "    def listprint(self):\n",
    "        printf = self.head\n",
    "        while printf is not None:\n",
    "            print(printf.data)\n",
    "            printf = printf.nextnode\n",
    "#inserting in the end\n",
    "    def node_end(self,newdata):\n",
    "        list3 = node(newdata)\n",
    "        prev = self.head\n",
    "        while prev is not None:\n",
    "            prev2 = prev\n",
    "            prev = prev.nextnode\n",
    "        prev2.nextnode = list3\n",
    "#searching\n",
    "    def search(self,target):\n",
    "        check = self.head\n",
    "        idx = 1\n",
    "        while check is not None:\n",
    "            if check.data == target:\n",
    "                print(idx)\n",
    "                break\n",
    "            else: \n",
    "                check = check.nextnode\n",
    "                idx = idx+1"
   ]
  },
  {
   "cell_type": "code",
   "execution_count": 2,
   "metadata": {},
   "outputs": [
    {
     "name": "stdout",
     "output_type": "stream",
     "text": [
      "20\n",
      "10\n",
      "30\n",
      "3\n"
     ]
    }
   ],
   "source": [
    "if __name__ == '__main__':\n",
    "    list1 = linked_list()\n",
    "    list1.node_begining(10);\n",
    "    list1.node_begining(20);\n",
    "    list1.node_end(30)\n",
    "    list1.listprint()\n",
    "    list1.search(30)"
   ]
  },
  {
   "cell_type": "code",
   "execution_count": null,
   "metadata": {},
   "outputs": [],
   "source": []
  }
 ],
 "metadata": {
  "kernelspec": {
   "display_name": "Python 3",
   "language": "python",
   "name": "python3"
  },
  "language_info": {
   "codemirror_mode": {
    "name": "ipython",
    "version": 3
   },
   "file_extension": ".py",
   "mimetype": "text/x-python",
   "name": "python",
   "nbconvert_exporter": "python",
   "pygments_lexer": "ipython3",
   "version": "3.7.4"
  }
 },
 "nbformat": 4,
 "nbformat_minor": 2
}
